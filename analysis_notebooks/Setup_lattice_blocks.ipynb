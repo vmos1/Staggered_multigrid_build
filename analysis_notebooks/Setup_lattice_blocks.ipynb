{
 "cells": [
  {
   "cell_type": "markdown",
   "id": "c92264c1-757e-440e-82ee-7d73966f39c0",
   "metadata": {},
   "source": [
    "# Code to setup the blocks for a 4D Multigrid run\n",
    "March 2, 2022"
   ]
  },
  {
   "cell_type": "code",
   "execution_count": 1,
   "id": "660ef3f4-26eb-478e-92aa-eb2807d5362c",
   "metadata": {},
   "outputs": [],
   "source": [
    "import numpy as np"
   ]
  },
  {
   "cell_type": "code",
   "execution_count": 2,
   "id": "8083744f-1844-4f91-8ec6-b868abd9cae3",
   "metadata": {},
   "outputs": [],
   "source": [
    "def f_to_numpy(dict1,key_lst):\n",
    "    for key in key_lst:\n",
    "        dict1[key]=np.array(dict1[key],dtype=np.int16)\n",
    "        \n",
    "def f_divide_arrays(a1,a2):\n",
    "    a3=a1//a2\n",
    "    a4=a1%a2\n",
    "    \n",
    "    if np.any(a4):\n",
    "        print(\"Found non-zero remainder. Integer division is not correct\")\n",
    "        print(\"Remainder list\",a4)\n",
    "    return a3"
   ]
  },
  {
   "cell_type": "code",
   "execution_count": 3,
   "id": "3139fafa-e286-4b50-a19c-375d52a4fcf3",
   "metadata": {},
   "outputs": [],
   "source": [
    "keys=['lattice','node_geo','size_per_gpu','nodes']"
   ]
  },
  {
   "cell_type": "markdown",
   "id": "196db210-d6c2-423c-acf0-1c360d9fe316",
   "metadata": {
    "tags": []
   },
   "source": [
    "## Fixed entries"
   ]
  },
  {
   "cell_type": "code",
   "execution_count": 4,
   "id": "7815b1ce-aed7-4c9a-a0d3-bf1abd6e785a",
   "metadata": {},
   "outputs": [],
   "source": [
    "gpus_per_node=8 ## GPUs per node for machine: 8 for Frontier\n",
    "# gpus_per_node=6 ## 6 for Summit"
   ]
  },
  {
   "cell_type": "code",
   "execution_count": 15,
   "id": "680e6eca-681e-448d-b4c5-43cc892bced9",
   "metadata": {},
   "outputs": [],
   "source": [
    "# Crusher and Frontier\n",
    "\n",
    "# dict_full={'lattice':[192, 192, 192, 384], 'nodes':288}\n",
    "# dict_full['node_geo']=[4,6,6,16]\n",
    "# dict_tune={'nodes':8}\n",
    "# dict_blocks={'b1':[6,4,4,4], 'b2':[2,2,2,3], 'b3': [2,2,2,1]}\n",
    "# dict_tune['node_geo']=[2,2,2,8]\n",
    "\n",
    "# 4 level MG\n",
    "dict_full={'lattice':[192, 192, 192, 384], 'nodes':288}\n",
    "dict_full['node_geo']=[4,6,6,16]\n",
    "dict_tune={'nodes':8}\n",
    "dict_blocks={'b1':[6,4,4,4], 'b2':[4,4,4,3],}\n",
    "dict_tune['node_geo']=[2,2,2,8]\n",
    "\n",
    "# dict_full={'lattice':[144, 144, 144, 288],'nodes':108}\n",
    "# dict_tune={'node_geo':[2,2,2,8],'nodes':8}\n",
    "# dict_full['node_geo']=[6,3,6,8]\n",
    "# dict_blocks={'b1':[4,6,6,6], 'b2':[3,2,2,3]}\n",
    "\n",
    "\n",
    "# Summit run \n",
    "\n",
    "# dict_full={'lattice':[192, 192, 192, 384], 'nodes':384}\n",
    "# dict_full['node_geo']=[4,6,6,16]\n",
    "# dict_tune={'nodes':8}\n",
    "# dict_blocks={'b1':[6,4,4,4], 'b2':[2,2,2,3], 'b3': [2,2,2,1]}\n",
    "# dict_tune['node_geo']=[2,3,2,4]\n",
    "\n",
    "# dict_full={'lattice':[144, 144, 144, 288],'nodes':144}\n",
    "# dict_tune={'node_geo':[6,2,2,2],'nodes':8}\n",
    "# dict_full['node_geo']=[6,3,6,8]\n",
    "# dict_blocks={'b1':[4,6,6,6], 'b2':[3,2,2,3]}"
   ]
  },
  {
   "cell_type": "markdown",
   "id": "d46be1d7-f7db-4f30-9197-aa441dc09fec",
   "metadata": {},
   "source": [
    "## Compute"
   ]
  },
  {
   "cell_type": "code",
   "execution_count": 16,
   "id": "cb8850f1-17d1-4ad4-9dd8-5432a387ac11",
   "metadata": {},
   "outputs": [],
   "source": [
    "# Convert lists to numpy arrays\n",
    "f_to_numpy(dict_full,['lattice','node_geo'])\n",
    "f_to_numpy(dict_tune,['node_geo'])\n",
    "\n",
    "# Compute size per gpu for full run\n",
    "dict_full['size_per_gpu']=f_divide_arrays(dict_full['lattice'],dict_full['node_geo'])\n",
    "\n",
    "# Compute lattice size for tuning run\n",
    "dict_tune['size_per_gpu']=dict_full['size_per_gpu']\n",
    "dict_tune['lattice']=dict_tune['size_per_gpu']*dict_tune['node_geo']\n",
    "\n",
    "\n",
    "# Compute block sizes inside GPU\n",
    "f_to_numpy(dict_blocks,['b1','b2'])\n",
    "loc_vol1=f_divide_arrays(dict_tune['size_per_gpu'],dict_blocks['b1'])\n",
    "loc_vol2=f_divide_arrays(loc_vol1,dict_blocks['b2'])\n",
    "\n",
    "if 'b3' in dict_blocks.keys(): \n",
    "    loc_vol3=f_divide_arrays(loc_vol2,dict_blocks['b3'])\n",
    "\n"
   ]
  },
  {
   "cell_type": "markdown",
   "id": "0b4c269a-c845-4f89-b772-2d7df3b80fbb",
   "metadata": {
    "tags": []
   },
   "source": [
    "## Perform checks"
   ]
  },
  {
   "cell_type": "code",
   "execution_count": 17,
   "id": "446ffe94-cc60-4e1d-8120-bf93efdd523d",
   "metadata": {},
   "outputs": [],
   "source": [
    "## Check number of GPUs match with node geometry\n",
    "num=1\n",
    "for i in dict_full['node_geo']: num*=i\n",
    "assert dict_full['nodes']*gpus_per_node==num\n",
    "\n",
    "num=1\n",
    "for i in dict_tune['node_geo']: num*=i\n",
    "assert dict_tune['nodes']*gpus_per_node==num\n",
    "\n",
    "## top level block can't have odd\n",
    "for i in dict_blocks['b1']:\n",
    "    if i%2!=0: \n",
    "        print(\"Error: All entries in top blocking need to be even\",i)\n",
    "\n",
    "## lower levels blocks need at least 1 even\n",
    "\n",
    "num_even=0        \n",
    "for i in dict_blocks['b2']:\n",
    "    if i%2==0: num_even+=1\n",
    "\n",
    "if num_even<1 : print(\"Error: At least one entry in lower blocking needs to be even\",dict_blocks['b2'])\n"
   ]
  },
  {
   "cell_type": "markdown",
   "id": "be3f231f-a09b-4bb2-a317-100e118a723c",
   "metadata": {},
   "source": [
    "## Print output"
   ]
  },
  {
   "cell_type": "code",
   "execution_count": 18,
   "id": "23ee3480-8547-4d2e-858e-2eba392f3452",
   "metadata": {},
   "outputs": [
    {
     "name": "stdout",
     "output_type": "stream",
     "text": [
      "Lattice geometry\n",
      "\n",
      "                 Tuning run      Full run  \n",
      "lattice          96 64 64 192    192 192 192 384\n",
      "node_geo         2 2 2 8         4 6 6 16  \n",
      "size_per_gpu     48 32 32 24     48 32 32 24\n",
      "nodes            8               288       \n",
      "\n",
      "\n",
      "\u001b[1mBlocking Scheme\n",
      "\u001b[m\n",
      "Layer 0          48\t32\t32\t24    \n",
      "Block 1          6\t4\t4\t4        \n",
      "---------------------\t -----------------\n",
      "Layer 1          8\t8\t8\t6        \n",
      "Block 2          4\t4\t4\t3        \n",
      "---------------------\t -----------------\n",
      "Layer 2          2\t2\t2\t2        \n"
     ]
    }
   ],
   "source": [
    "## Print run paramters\n",
    "print(\"Lattice geometry\\n\")\n",
    "print(\"{:<16} {:<15} {:<10}\".format(' ','Tuning run','Full run'))\n",
    "for k in keys:\n",
    "    v1,v2=dict_tune[k],dict_full[k]\n",
    "    if k!='nodes':\n",
    "        w1=\" \".join([str(i) for i in v1])\n",
    "        w2=\" \".join([str(i) for i in v2])\n",
    "        print(\"{:<16} {:<15} {:<10}\".format(k,w1,w2))\n",
    "    else :\n",
    "        print(\"{:<16} {:<15} {:<10}\".format(k,str(v1),str(v2)))\n",
    "\n",
    "print(\"\\n\")\n",
    "print('\\033[1m'+'Blocking Scheme') ## Getting bold text \n",
    "print('\\033[m') \n",
    "\n",
    "print(\"{:<16} {:<15}\".format('Layer 0' ,\"\\t\".join([str(i) for i in dict_tune['size_per_gpu']])))\n",
    "print(\"{:<16} {:<15}\".format('Block 1' ,\"\\t\".join([str(i) for i in dict_blocks['b1']])))\n",
    "print(\"---------------------\\t -----------------\")\n",
    "print(\"{:<16} {:<15}\".format('Layer 1' ,\"\\t\".join([str(i) for i in loc_vol1])))\n",
    "print(\"{:<16} {:<15}\".format('Block 2' ,\"\\t\".join([str(i) for i in dict_blocks['b2']])))\n",
    "print(\"---------------------\\t -----------------\")\n",
    "print(\"{:<16} {:<15}\".format('Layer 2' ,\"\\t\".join([str(i) for i in loc_vol2])))\n",
    "\n",
    "if 'b3' in dict_blocks.keys(): \n",
    "    print(\"{:<16} {:<15}\".format('Block 3' ,\"\\t\".join([str(i) for i in dict_blocks['b3']])))\n",
    "    print(\"---------------------\\t -----------------\")\n",
    "    print(\"{:<16} {:<15}\".format('Layer 3' ,\"\\t\".join([str(i) for i in loc_vol3])))"
   ]
  },
  {
   "cell_type": "markdown",
   "id": "5d6e1b48-3d5d-41df-848f-972337b5b6e6",
   "metadata": {},
   "source": [
    "## Print without tuning info    "
   ]
  },
  {
   "cell_type": "code",
   "execution_count": 10,
   "id": "9cf5573f-b4a2-4c74-8981-c9528d0ebc74",
   "metadata": {},
   "outputs": [
    {
     "name": "stdout",
     "output_type": "stream",
     "text": [
      "Lattice geometry\n",
      "\n",
      "lattice         192 192 192 384\n",
      "node_geo        4 6 6 16  \n",
      "size_per_gpu    48 32 32 24\n",
      "nodes           288       \n",
      "\n",
      "\n",
      "\u001b[1mBlocking Scheme\n",
      "\u001b[m\n",
      "Layer 0          48\t32\t32\t24    \n",
      "Block 1          6\t4\t4\t4        \n",
      "---------------------\t -----------------\n",
      "Layer 1          8\t8\t8\t6        \n",
      "Block 2          2\t2\t2\t3        \n",
      "---------------------\t -----------------\n",
      "Layer 2          4\t4\t4\t2        \n",
      "Block 3          2\t2\t2\t1        \n",
      "---------------------\t -----------------\n",
      "Layer 3          2\t2\t2\t2        \n"
     ]
    }
   ],
   "source": [
    "## Print run paramters\n",
    "print(\"Lattice geometry\\n\")\n",
    "# print(\"{:<16}{:<10}\".format(' ','Full run'))\n",
    "for k in keys:\n",
    "    v1,v2=dict_tune[k],dict_full[k]\n",
    "    if k!='nodes':\n",
    "        w1=\" \".join([str(i) for i in v1])\n",
    "        w2=\" \".join([str(i) for i in v2])\n",
    "        print(\"{:<16}{:<10}\".format(k,w2))\n",
    "    else :\n",
    "        print(\"{:<16}{:<10}\".format(k,str(v2)))\n",
    "\n",
    "print(\"\\n\")\n",
    "print('\\033[1m'+'Blocking Scheme') ## Getting bold text \n",
    "print('\\033[m') \n",
    "\n",
    "print(\"{:<16} {:<15}\".format('Layer 0' ,\"\\t\".join([str(i) for i in dict_tune['size_per_gpu']])))\n",
    "print(\"{:<16} {:<15}\".format('Block 1' ,\"\\t\".join([str(i) for i in dict_blocks['b1']])))\n",
    "print(\"---------------------\\t -----------------\")\n",
    "print(\"{:<16} {:<15}\".format('Layer 1' ,\"\\t\".join([str(i) for i in loc_vol1])))\n",
    "print(\"{:<16} {:<15}\".format('Block 2' ,\"\\t\".join([str(i) for i in dict_blocks['b2']])))\n",
    "print(\"---------------------\\t -----------------\")\n",
    "print(\"{:<16} {:<15}\".format('Layer 2' ,\"\\t\".join([str(i) for i in loc_vol2])))\n",
    "\n",
    "if 'b3' in dict_blocks.keys(): \n",
    "    print(\"{:<16} {:<15}\".format('Block 3' ,\"\\t\".join([str(i) for i in dict_blocks['b3']])))\n",
    "    print(\"---------------------\\t -----------------\")\n",
    "    print(\"{:<16} {:<15}\".format('Layer 3' ,\"\\t\".join([str(i) for i in loc_vol3])))"
   ]
  },
  {
   "cell_type": "code",
   "execution_count": null,
   "id": "70d8f3c0-3c43-41ce-8a75-0598b9403dea",
   "metadata": {},
   "outputs": [],
   "source": []
  },
  {
   "cell_type": "code",
   "execution_count": null,
   "id": "0df587c7-19f2-468e-bd16-82975cd2573e",
   "metadata": {},
   "outputs": [],
   "source": []
  }
 ],
 "metadata": {
  "kernelspec": {
   "display_name": "OLCF-base (ipykernel)",
   "language": "python",
   "name": "python3"
  },
  "language_info": {
   "codemirror_mode": {
    "name": "ipython",
    "version": 3
   },
   "file_extension": ".py",
   "mimetype": "text/x-python",
   "name": "python",
   "nbconvert_exporter": "python",
   "pygments_lexer": "ipython3",
   "version": "3.8.10"
  }
 },
 "nbformat": 4,
 "nbformat_minor": 5
}
