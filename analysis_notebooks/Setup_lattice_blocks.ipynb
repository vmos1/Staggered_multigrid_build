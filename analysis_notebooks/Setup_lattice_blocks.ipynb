{
 "cells": [
  {
   "cell_type": "markdown",
   "id": "c92264c1-757e-440e-82ee-7d73966f39c0",
   "metadata": {},
   "source": [
    "# Code to setup the blocks for a 4D Multigrid run\n",
    "March 2, 2022"
   ]
  },
  {
   "cell_type": "code",
   "execution_count": 1,
   "id": "660ef3f4-26eb-478e-92aa-eb2807d5362c",
   "metadata": {},
   "outputs": [],
   "source": [
    "import numpy as np\n"
   ]
  },
  {
   "cell_type": "code",
   "execution_count": 2,
   "id": "3139fafa-e286-4b50-a19c-375d52a4fcf3",
   "metadata": {},
   "outputs": [],
   "source": [
    "keys=['lattice','node_geo','size_per_gpu','nodes']"
   ]
  },
  {
   "cell_type": "code",
   "execution_count": 3,
   "id": "8083744f-1844-4f91-8ec6-b868abd9cae3",
   "metadata": {},
   "outputs": [],
   "source": [
    "def f_to_numpy(dict1,key_lst):\n",
    "    for key in key_lst:\n",
    "        dict1[key]=np.array(dict1[key],dtype=np.int16)\n",
    "        \n",
    "def f_divide_arrays(a1,a2):\n",
    "    a3=a1//a2\n",
    "    a4=a1%a2\n",
    "    \n",
    "    if np.any(a4):\n",
    "        print(\"Found non-zero remainder. Integer division is not correct\")\n",
    "        print(\"Remainder list\",a4)\n",
    "    return a3"
   ]
  },
  {
   "cell_type": "markdown",
   "id": "196db210-d6c2-423c-acf0-1c360d9fe316",
   "metadata": {},
   "source": [
    "### Fixed entries"
   ]
  },
  {
   "cell_type": "code",
   "execution_count": 4,
   "id": "680e6eca-681e-448d-b4c5-43cc892bced9",
   "metadata": {},
   "outputs": [],
   "source": [
    "# dict_full={'lattice':[144, 144, 144, 288]}\n",
    "# dict_tune={'node_geo':[6,2,2,2],'nodes':8}\n",
    "\n",
    "dict_full={'lattice':[96, 96, 96, 192]}\n",
    "dict_tune={'node_geo':[2, 2, 2, 4],'nodes':4}"
   ]
  },
  {
   "cell_type": "markdown",
   "id": "af032794-6ba1-4501-bb20-ee88693c84e8",
   "metadata": {},
   "source": [
    "### Varying entries "
   ]
  },
  {
   "cell_type": "code",
   "execution_count": 5,
   "id": "7a5f0253-45e5-4573-9f51-0d360d2dd7e1",
   "metadata": {},
   "outputs": [],
   "source": [
    "# dict_full['node_geo']=[6,3,6,8]\n",
    "# dict_full['nodes']=144\n",
    "# dict_blocks={'b1':[4,6,6,6], 'b2':[3,2,2,3]}\n",
    "\n",
    "dict_full['node_geo']=[4, 4, 2, 4]\n",
    "prd=1\n",
    "for i in dict_full['node_geo']: prd*=i \n",
    "dict_full['nodes']=prd/8\n",
    "dict_blocks={'b1':[4,4,4,6], 'b2':[3,3,3,2]}"
   ]
  },
  {
   "cell_type": "markdown",
   "id": "d46be1d7-f7db-4f30-9197-aa441dc09fec",
   "metadata": {},
   "source": [
    "### Compute"
   ]
  },
  {
   "cell_type": "code",
   "execution_count": 6,
   "id": "cb8850f1-17d1-4ad4-9dd8-5432a387ac11",
   "metadata": {},
   "outputs": [],
   "source": [
    "# Convert lists to numpy arrays\n",
    "f_to_numpy(dict_full,['lattice','node_geo'])\n",
    "f_to_numpy(dict_tune,['node_geo'])\n",
    "\n",
    "# Compute size per gpu for full run\n",
    "dict_full['size_per_gpu']=f_divide_arrays(dict_full['lattice'],dict_full['node_geo'])\n",
    "\n",
    "# Compute lattice size for tuning run\n",
    "dict_tune['size_per_gpu']=dict_full['size_per_gpu']\n",
    "dict_tune['lattice']=dict_tune['size_per_gpu']*dict_tune['node_geo']\n",
    "\n",
    "\n",
    "# Compute block sizes inside GPU\n",
    "f_to_numpy(dict_blocks,['b1','b2'])\n",
    "loc_vol1=f_divide_arrays(dict_tune['size_per_gpu'],dict_blocks['b1'])\n",
    "loc_vol2=f_divide_arrays(loc_vol1,dict_blocks['b2'])"
   ]
  },
  {
   "cell_type": "markdown",
   "id": "be3f231f-a09b-4bb2-a317-100e118a723c",
   "metadata": {},
   "source": [
    "### Print output"
   ]
  },
  {
   "cell_type": "code",
   "execution_count": 7,
   "id": "34f018a2-d702-4ddb-b646-5d7e2af21832",
   "metadata": {},
   "outputs": [
    {
     "name": "stdout",
     "output_type": "stream",
     "text": [
      "Size    [24 24 48 48]\n",
      "Block 1 [4 4 4 6] -> [ 6  6 12  8]\n",
      "\n",
      "Size    [ 6  6 12  8]\n",
      "Block 2 [3 3 3 2] -> [2 2 4 4]\n"
     ]
    }
   ],
   "source": [
    "print(\"Size   \",dict_tune['size_per_gpu'])\n",
    "print(\"Block 1\",dict_blocks['b1'],\"->\",loc_vol1)\n",
    "print(\"\\nSize   \",loc_vol1)\n",
    "print(\"Block 2\",dict_blocks['b2'],\"->\",loc_vol2)\n"
   ]
  },
  {
   "cell_type": "code",
   "execution_count": 8,
   "id": "23ee3480-8547-4d2e-858e-2eba392f3452",
   "metadata": {},
   "outputs": [
    {
     "name": "stdout",
     "output_type": "stream",
     "text": [
      "                 Tuning run      Full run  \n",
      "lattice          48 48 96 192    96 96 96 192\n",
      "node_geo         2 2 2 4         4 4 2 4   \n",
      "size_per_gpu     24 24 48 48     24 24 48 48\n",
      "nodes            4               16.0      \n"
     ]
    }
   ],
   "source": [
    "## Print run paramters\n",
    "print(\"{:<16} {:<15} {:<10}\".format(' ','Tuning run','Full run'))\n",
    "for k in keys:\n",
    "    v1,v2=dict_tune[k],dict_full[k]\n",
    "    if k!='nodes':\n",
    "        w1=\" \".join([str(i) for i in v1])\n",
    "        w2=\" \".join([str(i) for i in v2])\n",
    "        print(\"{:<16} {:<15} {:<10}\".format(k,w1,w2))\n",
    "    else :\n",
    "        print(\"{:<16} {:<15} {:<10}\".format(k,str(v1),str(v2)))\n"
   ]
  },
  {
   "cell_type": "code",
   "execution_count": null,
   "id": "8506c642-0078-4ea1-8c90-97a0f4db781b",
   "metadata": {},
   "outputs": [],
   "source": []
  },
  {
   "cell_type": "code",
   "execution_count": null,
   "id": "e29ce368-eada-4ad8-9ad5-831ce8d9f520",
   "metadata": {},
   "outputs": [],
   "source": []
  }
 ],
 "metadata": {
  "kernelspec": {
   "display_name": "OLCF-base (ipykernel)",
   "language": "python",
   "name": "python3"
  },
  "language_info": {
   "codemirror_mode": {
    "name": "ipython",
    "version": 3
   },
   "file_extension": ".py",
   "mimetype": "text/x-python",
   "name": "python",
   "nbconvert_exporter": "python",
   "pygments_lexer": "ipython3",
   "version": "3.8.10"
  }
 },
 "nbformat": 4,
 "nbformat_minor": 5
}
