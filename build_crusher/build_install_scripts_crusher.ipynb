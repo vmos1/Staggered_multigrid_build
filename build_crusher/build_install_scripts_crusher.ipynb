{
 "cells": [
  {
   "cell_type": "markdown",
   "id": "356ea646-c554-49a7-ac63-ad91d321874f",
   "metadata": {},
   "source": [
    "## Code to install MILC and QUDA on Summit\n",
    "Oct, 2022"
   ]
  },
  {
   "cell_type": "code",
   "execution_count": 1,
   "id": "d75f816b-5eff-4dc8-87be-ba824f69f003",
   "metadata": {},
   "outputs": [],
   "source": [
    "import os, glob\n",
    "import subprocess as sp\n",
    "import numpy as np\n",
    "import shutil\n"
   ]
  },
  {
   "cell_type": "code",
   "execution_count": 2,
   "id": "cfdfaa4b-0be2-46bc-a735-67c0a2925e78",
   "metadata": {},
   "outputs": [],
   "source": [
    "from ipywidgets import *"
   ]
  },
  {
   "cell_type": "markdown",
   "id": "ff005c81-cd98-46fb-ae04-ac0f2081414b",
   "metadata": {},
   "source": [
    "## Build scripts"
   ]
  },
  {
   "cell_type": "code",
   "execution_count": 3,
   "id": "6713f0bd-48ac-4d36-8717-d7341b6b6d0d",
   "metadata": {},
   "outputs": [
    {
     "name": "stdout",
     "output_type": "stream",
     "text": [
      "/autofs/nccs-svm1_home1/venkitesh/projects/lqcd/multigrid_lattice/Staggered_multigrid_build/build_crusher\n"
     ]
    }
   ],
   "source": [
    "start_dir=os.getcwd()\n",
    "print(start_dir)\n",
    "\n",
    "# Create directory to save install scripts\n",
    "if not os.path.exists(start_dir+'/install_scripts'):\n",
    "    os.makedirs(start_dir+'/install_scripts/')"
   ]
  },
  {
   "cell_type": "code",
   "execution_count": 4,
   "id": "43bb4abf-e56c-4c73-bfb8-6e1df700c5af",
   "metadata": {},
   "outputs": [],
   "source": [
    "dict_pars={}\n",
    "dict_pars['build_dir']='/gpfs/alpine/lgt104/proj-shared/ayyar/builds_crusher/install_dec1_2022'\n",
    "dict_pars['run_dir']='/gpfs/alpine/lgt104/proj-shared/ayyar/runs_crusher/runs_dec1_2022'\n",
    "\n",
    "## Create upper level directories\n",
    "if not os.path.exists(dict_pars['build_dir']):\n",
    "    os.makedirs(dict_pars['build_dir']+'/QUDA/src/')\n",
    "    # os.makedirs(dict_pars['build_dir']+'/QUDA/src/quda/')\n",
    "    # os.makedirs(dict_pars['build_dir']+'/MILC')\n",
    "    os.makedirs(dict_pars['build_dir']+'/install')"
   ]
  },
  {
   "cell_type": "code",
   "execution_count": 5,
   "id": "28cc0273-2f2c-404e-8b43-c9917286c207",
   "metadata": {},
   "outputs": [],
   "source": [
    "### Setup env\n",
    "env_bash_strg='''#!/bin/bash\n",
    "#############\n",
    "\n",
    "module load craype-accel-amd-gfx90a\n",
    "module load cray-mpich/8.1.12\n",
    "module load cmake\n",
    "module load rocm/4.5.2\n",
    "module list\n",
    "\n",
    "export MPICH_ROOT=/opt/cray/pe/mpich/8.1.12\n",
    "export MPICH_DIR=${{MPICH_ROOT}}/ofi/crayclang/10.0\n",
    "\n",
    "## These must be set before running\n",
    "\n",
    "#export SRCROOT=${{BUILD_DIR}}/../src\n",
    "#export BUILDROOT=${{BUILD_DIR}}/build\n",
    "export INSTALLROOT=${{BUILD_DIR}}/install\n",
    "export GPU_TARGET=gfx90a\n",
    "\n",
    "MPI_CFLAGS=\"-I${{MPICH_DIR}}/include -g\"\n",
    "MPI_LDFLAGS=\"-g -L${{MPICH_DIR}}/lib -lmpi -L${{MPICH_ROOT}}/gtl/lib -lmpi_gtl_hsa\"\n",
    "\n",
    "export PK_BUILD_TYPE=\"Release\"\n",
    "\n",
    "export PATH=${{ROCM_PATH}}/bin:${{PATH}}\n",
    "export LD_LIBRARY_PATH=${{INSTALLROOT}}/quda/lib:${{MPICH_DIR}}/lib:${{MPICH_ROOT}}/gtl/lib:${{LD_LIBRARY_PATH}}\n",
    "\n",
    "'''.format(**dict_pars)\n"
   ]
  },
  {
   "cell_type": "code",
   "execution_count": 6,
   "id": "a6a7c1ad-25e8-4d4b-9695-92d94b96f76f",
   "metadata": {
    "tags": []
   },
   "outputs": [],
   "source": [
    "build_bash_strg1='''#!/bin/bash\n",
    "date\n",
    "#############\n",
    "## Source environment\n",
    "\n",
    "script_loc=$BUILD_DIR/install_scripts\n",
    "source $script_loc/setup_env_crusher.sh\n",
    "WORKDIR=$BUILD_DIR\n",
    "\n",
    "############\n",
    "## Build QUDA\n",
    "QUDA_SRC=${{WORKDIR}}/QUDA/src/quda\n",
    "QUDA_BUILD=${{WORKDIR}}/QUDA/build\n",
    "\n",
    "pushd .\n",
    "if [ ! -d $QUDA_SRC ]\n",
    "then\n",
    "##  git clone --branch feature/hip-compile-fixes https://github.com/lattice/quda $QUDA_SRC # clone QUDA to the desired directory\n",
    "\n",
    "git clone --branch develop https://github.com/lattice/quda $QUDA_SRC # clone QUDA to the desired directory\n",
    "\n",
    "else\n",
    "  cd $QUDA_SRC; git pull; cd ..\n",
    "fi\n",
    "\n",
    "if [ ! -d $QUDA_BUILD ]\n",
    "then\n",
    "  mkdir $QUDA_BUILD\n",
    "else\n",
    "  cd $QUDA_BUILD\n",
    "  rm -rf *\n",
    "fi\n",
    "\n",
    "export QUDA_GPU_ARCH=gfx90a\n",
    "\n",
    "cd $QUDA_BUILD\n",
    "cmake -DCMAKE_BUILD_TYPE=DEVEL -DQUDA_DIRAC_DEFAULT_OFF=ON -DQUDA_DIRAC_STAGGERED=ON -DQUDA_GAUGE_ALG=ON -DQUDA_GAUGE_TOOLS=ON -DQUDA_DOWNLOAD_USQCD=ON -DQUDA_QIO=ON -DQUDA_QMP=ON -DQUDA_MULTIGRID=ON \\\n",
    "-DQUDA_TARGET_TYPE=\"HIP\" \\\n",
    "-DROCM_PATH=${{ROCM_PATH}} \\\n",
    "-DGPU_TARGETS=\"gfx90a\" \\\n",
    "-DCMAKE_CXX_COMPILER=\"hipcc\" \\\n",
    "-DCMAKE_C_COMPILER=\"hipcc\" \\\n",
    "-DCMAKE_CXX_FLAGS=\"${{MPI_CFLAGS}}\" \\\n",
    "-DCMAKE_C_FLAGS=\"${{MPI_CFLAGS}}\" \\\n",
    "-DCMAKE_EXE_LINKER_FLAGS=\"${{MPI_LDFLAGS}}\" \\\n",
    "-DCMAKE_SHARED_LINKER_FLAGS=\"${{MPI_LDFLAGS}}\" \\\n",
    "-DCMAKE_C_STANDARD=99 \\\n",
    "-DCMAKE_INSTALL_PREFIX=${{INSTALLROOT}}/quda \\\n",
    "$QUDA_SRC\n",
    "\n",
    "nice make VERBOSE=1 -j 16 \n",
    "make install\n",
    "popd\n",
    "\n",
    "date\n",
    "'''.format(**dict_pars)\n"
   ]
  },
  {
   "cell_type": "code",
   "execution_count": 7,
   "id": "5fce24c6-b9c4-4cf9-b617-f088f8fab021",
   "metadata": {},
   "outputs": [],
   "source": [
    "build_bash_strg2='''#!/bin/bash\n",
    "#############\n",
    "## Source environment\n",
    "script_loc=$BUILD_DIR/install_scripts\n",
    "source $script_loc/setup_env_crusher.sh\n",
    "\n",
    "git clone --branch feature/staggMG https://github.com/weinbe2/milc_qcd ${{BUILD_DIR}}/milc_qcd\n",
    "## git clone --branch develop https://github.com/milc-qcd/milc_qcd ${{BUILD_DIR}}/milc_qcd\n",
    "'''.format(**dict_pars)"
   ]
  },
  {
   "cell_type": "code",
   "execution_count": 8,
   "id": "fd5d7dce-4f05-4a56-b37a-7622487f1696",
   "metadata": {},
   "outputs": [],
   "source": [
    "build_bash_strg3='''#!/bin/bash\n",
    "date\n",
    "#############\n",
    "## Source environment\n",
    "script_loc=$BUILD_DIR/install_scripts\n",
    "source $script_loc/setup_env_crusher.sh\n",
    "\n",
    "QUDA_INSTALL=${{INSTALLROOT}}/quda\n",
    "\n",
    "LIBQUDA=\"-Wl,-rpath ${{QUDA_INSTALL}}/lib -L${{QUDA_INSTALL}}/lib -lquda -D__gfx90a --offload-arch=gfx90a --amdgpu-target=gfx90a -Wl,-rpath=${{ROCM_PATH}}/hiprand/lib -L${{ROCM_PATH}}/hiprand/lib -Wl,-rpath=${{ROCM_PATH}}/rocfft/lib -L${{ROCM_PATH}}/rocfft/lib -lhiprand -lrocfft -Wl,-rpath=${{ROCM_PATH}}/hipblas/lib -L${{ROCM_PATH}}/hipblas/lib -lhipblas -Wl,-rpath=${{ROCM_PATH}}/rocblas/lib -L${{ROCM_PATH}}/rocblas/lib -lrocblas -Wl,-rpath=${{ROCM_PATH}}/hip/lib\"\n",
    "\n",
    "echo $BUILD_DIR/milc_qcd/ks_spectrum\n",
    "############ Make ks_spectrum_hisq ##################\n",
    "cd $BUILD_DIR/milc_qcd/ks_spectrum\n",
    "cp ../Makefile .\n",
    "make clean\n",
    "\n",
    "MY_CC=hipcc \\\n",
    "MY_CXX=hipcc \\\n",
    "ARCH=\"\" \\\n",
    "COMPILER=\"gnu\" \\\n",
    "OPT=\"-O3 --offload-arch=gfx90a\" \\\n",
    "CUDA_HOME=\"\" \\\n",
    "QUDA_HOME=${{QUDA_INSTALL}} \\\n",
    "WANTQUDA=true \\\n",
    "WANT_FN_CG_GPU=true \\\n",
    "WANT_FL_GPU=true \\\n",
    "WANT_GF_GPU=true \\\n",
    "WANT_FF_GPU=true \\\n",
    "WANT_MIXED_PRECISION_GPU=2 \\\n",
    "PRECISION=2 \\\n",
    "MPP=true \\\n",
    "OMP=true \\\n",
    "WANTQIO=true \\\n",
    "WANTQMP=true \\\n",
    "QIOPAR=${{INSTALLROOT}}/quda \\\n",
    "QMPPAR=${{INSTALLROOT}}/quda \\\n",
    "LIBQUDA=${{LIBQUDA}} \\\n",
    "OFFLOAD=HIP \\\n",
    "CGEOM=\"-DFIX_NODE_GEOM -DFIX_IONODE_GEOM\" \\\n",
    "KSCGMULTI=\"-DKS_MULTICG=HYBRID -DMULTISOURCE -DMULTIGRID\" \\\n",
    "CTIME=\"-DNERSC_TIME -DCGTIME -DFFTIME -DFLTIME -DGFTIME -DREMAP -DPRTIME -DIOTIME\" \\\n",
    "make -j 1 ks_spectrum_hisq\n",
    "cd ..\n",
    "\n",
    "date\n",
    "'''.format(**dict_pars)"
   ]
  },
  {
   "cell_type": "code",
   "execution_count": null,
   "id": "d6be085d-f944-430b-9a55-bd2066814768",
   "metadata": {},
   "outputs": [],
   "source": []
  },
  {
   "cell_type": "code",
   "execution_count": 9,
   "id": "7385b754-02ff-4eae-b2ef-b0caecbb0e07",
   "metadata": {},
   "outputs": [
    {
     "data": {
      "text/plain": [
       "('/autofs/nccs-svm1_home1/venkitesh/projects/lqcd/multigrid_lattice/Staggered_multigrid_build/build_crusher/install_scripts/',\n",
       " '/gpfs/alpine/lgt104/proj-shared/ayyar/builds_crusher/install_dec1_2022/')"
      ]
     },
     "execution_count": 9,
     "metadata": {},
     "output_type": "execute_result"
    }
   ],
   "source": [
    "loc1=start_dir+'/install_scripts/'\n",
    "loc2=dict_pars['build_dir']+'/'\n",
    "loc1,loc2"
   ]
  },
  {
   "cell_type": "code",
   "execution_count": 10,
   "id": "dd42096f-b98e-4f3d-94af-c72d0b12349a",
   "metadata": {},
   "outputs": [
    {
     "name": "stdout",
     "output_type": "stream",
     "text": [
      "setup_env_crusher.sh build_quda.sh build_milc1.sh build_milc2.sh\n"
     ]
    }
   ],
   "source": [
    "fname1='setup_env_crusher.sh'\n",
    "with open (loc1+fname1,'w') as f: f.write(env_bash_strg)\n",
    "\n",
    "fname2='build_quda.sh'\n",
    "with open (loc1+fname2,'w') as f: f.write(build_bash_strg1)\n",
    "\n",
    "fname3='build_milc1.sh'\n",
    "with open (loc1+fname3,'w') as f: f.write(build_bash_strg2)\n",
    "\n",
    "fname4='build_milc2.sh'\n",
    "with open (loc1+fname4,'w') as f: f.write(build_bash_strg3)\n",
    "\n",
    "print(fname1,fname2,fname3,fname4)"
   ]
  },
  {
   "cell_type": "code",
   "execution_count": null,
   "id": "c74621ae-c3bd-45e9-b32a-72b2fca74721",
   "metadata": {
    "tags": []
   },
   "outputs": [],
   "source": [
    "%%bash -s \"$fname1\" \"$fname2\" \"$fname3\" \"$fname4\" \"$loc1\" \"$loc2\" ## Use python variables in bash\n",
    "\n",
    "# ls -al $5$1\n",
    "# ls -al $5$4\n",
    "\n",
    "chmod +x $5/$1\n",
    "chmod +x $5/$2\n",
    "chmod +x $5/$3\n",
    "chmod +x $5/$4\n",
    "\n",
    "mv $5 $6"
   ]
  },
  {
   "cell_type": "markdown",
   "id": "e96360ab-6e55-4f3e-a2c3-e55cb82867c4",
   "metadata": {},
   "source": [
    "### Run the build\n",
    "cd \\<build_dir\\> \\\n",
    "export BUILD_DIR=$PWD \\\n",
    "./install_scripts/build_quda.sh 2>&1 | tee op_quda.out \\\n",
    "./install_scripts/build_milc1.sh 2>&1 | tee op_milc1.out \\\n",
    "< make some changes to files> \\\n",
    "./install_scripts/build_milc2.sh 2>&1 | tee op_milc2.out"
   ]
  },
  {
   "cell_type": "code",
   "execution_count": null,
   "id": "938fc7b1-3430-4e4c-8571-a428364ccea0",
   "metadata": {},
   "outputs": [],
   "source": [
    "# cat install_scripts/build_milc.sh"
   ]
  },
  {
   "cell_type": "code",
   "execution_count": null,
   "id": "beb6eba8-1a1a-4ba8-9fa7-50fcf1d2971b",
   "metadata": {},
   "outputs": [],
   "source": []
  },
  {
   "cell_type": "code",
   "execution_count": null,
   "id": "908c34b5-983a-4d2d-9b54-34f49c7417a8",
   "metadata": {},
   "outputs": [],
   "source": []
  }
 ],
 "metadata": {
  "kernelspec": {
   "display_name": "OLCF-base (ipykernel)",
   "language": "python",
   "name": "python3"
  },
  "language_info": {
   "codemirror_mode": {
    "name": "ipython",
    "version": 3
   },
   "file_extension": ".py",
   "mimetype": "text/x-python",
   "name": "python",
   "nbconvert_exporter": "python",
   "pygments_lexer": "ipython3",
   "version": "3.8.10"
  }
 },
 "nbformat": 4,
 "nbformat_minor": 5
}
