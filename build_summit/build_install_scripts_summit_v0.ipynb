{
 "cells": [
  {
   "cell_type": "markdown",
   "id": "356ea646-c554-49a7-ac63-ad91d321874f",
   "metadata": {},
   "source": [
    "## Code to install MILC and QUDA on Summit\n",
    "Sept 16, 2021"
   ]
  },
  {
   "cell_type": "code",
   "execution_count": 2,
   "id": "d75f816b-5eff-4dc8-87be-ba824f69f003",
   "metadata": {},
   "outputs": [],
   "source": [
    "import os, glob\n",
    "import subprocess as sp\n",
    "import numpy as np\n",
    "import shutil\n"
   ]
  },
  {
   "cell_type": "code",
   "execution_count": 3,
   "id": "cfdfaa4b-0be2-46bc-a735-67c0a2925e78",
   "metadata": {},
   "outputs": [],
   "source": [
    "from ipywidgets import *"
   ]
  },
  {
   "cell_type": "code",
   "execution_count": 4,
   "id": "6713f0bd-48ac-4d36-8717-d7341b6b6d0d",
   "metadata": {},
   "outputs": [
    {
     "name": "stdout",
     "output_type": "stream",
     "text": [
      "/autofs/nccs-svm1_home1/venkitesh/projects/lqcd/multigrid_lattice/Summit_scripts\n"
     ]
    }
   ],
   "source": [
    "start_dir=os.getcwd()\n",
    "print(start_dir)"
   ]
  },
  {
   "cell_type": "code",
   "execution_count": 5,
   "id": "43bb4abf-e56c-4c73-bfb8-6e1df700c5af",
   "metadata": {},
   "outputs": [],
   "source": [
    "dict_pars={}\n",
    "dict_pars['build_dir']='/gpfs/alpine/lgt104/proj-shared/ayyar/builds_summit/install_March_14_2022'\n",
    "dict_pars['mgrid']='-DQUDA_MULTIGRID=ON'\n",
    "dict_pars['run_dir']='/gpfs/alpine/lgt104/proj-shared/ayyar/runs_summit/runs_March14_2022'\n",
    "# dict_pars['mgrid']=''\n",
    "\n",
    "## Create upper level directories\n",
    "if not os.path.exists(dict_pars['build_dir']):\n",
    "    os.makedirs(dict_pars['build_dir']+'/QUDA')\n",
    "    os.makedirs(dict_pars['build_dir']+'/MILC')"
   ]
  },
  {
   "cell_type": "code",
   "execution_count": 6,
   "id": "28cc0273-2f2c-404e-8b43-c9917286c207",
   "metadata": {},
   "outputs": [],
   "source": [
    "### Setup env\n",
    "env_bash_strg='''#!/bin/bash\n",
    "#############\n",
    "\n",
    "module purge\n",
    "module load DefApps\n",
    "module unload xalt/1.2.1\n",
    "#module load cuda/11.3.1\n",
    "module load cuda/11.0.3\n",
    "#module load gcc/7.5.0\n",
    "module load gcc/9.3.0\n",
    "module load git/2.31.1\n",
    "module load cmake/3.20.2\n",
    "module load nsight-systems/2021.3.1.54\n",
    "module load nsight-compute/2021.2.1\n",
    "module load gdrcopy/2.2\n",
    "module list\n",
    "\n",
    "\n",
    "export LD_LIBRARY_PATH=\"{build_dir}/QUDA/build/usqcd/lib:${{LD_LIBRARY_PATH}}\"\n",
    "'''.format(**dict_pars)\n"
   ]
  },
  {
   "cell_type": "code",
   "execution_count": 7,
   "id": "a6a7c1ad-25e8-4d4b-9695-92d94b96f76f",
   "metadata": {
    "tags": []
   },
   "outputs": [],
   "source": [
    "\n",
    "build_bash_strg='''#!/bin/bash\n",
    "#############\n",
    "WORKDIR={build_dir}\n",
    "\n",
    "#############\n",
    "## Source environment\n",
    "source ${{WORKDIR}}/setup_env.sh\n",
    "\n",
    "############\n",
    "## Build QUDA\n",
    "QUDA_SRC=${{WORKDIR}}/QUDA/src/quda\n",
    "QUDA_BUILD=${{WORKDIR}}/QUDA/build\n",
    "\n",
    "pushd .\n",
    "if [ ! -d $QUDA_SRC ]\n",
    "then\n",
    "  git clone --branch develop https://github.com/lattice/quda $QUDA_SRC # clone QUDA to the desired directory\n",
    "else\n",
    "  cd $QUDA_SRC; git pull; cd ..\n",
    "fi\n",
    "\n",
    "if [ ! -d $QUDA_BUILD ]\n",
    "then\n",
    "  mkdir $QUDA_BUILD\n",
    "else\n",
    "  cd $QUDA_BUILD\n",
    "  rm -rf *\n",
    "fi\n",
    "\n",
    "cd $QUDA_BUILD\n",
    "cmake -DCMAKE_BUILD_TYPE=RELEASE -DQUDA_DIRAC_DEFAULT_OFF=ON -DQUDA_DIRAC_STAGGERED=ON -DQUDA_GPU_ARCH=sm_70 -DQUDA_GAUGE_ALG=ON -DQUDA_GAUGE_TOOLS=ON -DQUDA_DOWNLOAD_USQCD=ON -DQUDA_QIO=ON -DQUDA_QMP=ON {mgrid} $QUDA_SRC\n",
    "nice make -j 4\n",
    "make install\n",
    "popd\n",
    "\n",
    "############\n",
    "## Build MILC\n",
    "\n",
    "MILCDIR=${{WORKDIR}}/MILC/milc_qcd\n",
    "if [ -d $MILCDIR ]\n",
    "then\n",
    "  rm -rf $MILCDIR\n",
    "fi\n",
    "git clone --branch develop https://github.com/milc-qcd/milc_qcd ${{MILCDIR}}\n",
    "cd ${{MILCDIR}}/ks_spectrum && cp ${{MILCDIR}}/Makefile ${{MILCDIR}}/ks_spectrum\n",
    "export PATH_TO_CUDA=/sw/summit/cuda/11.0.3 # NEED TO MAKE THIS MORE ROBUST TO DIFFERENT CUDA VERSIONS, ASSUMES 11.0.3\n",
    "export USQCD_BUILD=${{QUDA_BUILD}}/usqcd\n",
    "\n",
    "PATH_TO_CUDA=$PATH_TO_CUDA PATH_TO_QUDA=$QUDA_BUILD PATH_TO_QMP=$USQCD_BUILD PATH_TO_QIO=$USQCD_BUILD POWER9=1 MULTIGRID=1 ./compile_ks_spectrum_quda.sh\n",
    "\n",
    "cd $WORKDIR\n",
    "'''.format(**dict_pars)\n"
   ]
  },
  {
   "cell_type": "code",
   "execution_count": 8,
   "id": "7385b754-02ff-4eae-b2ef-b0caecbb0e07",
   "metadata": {},
   "outputs": [
    {
     "data": {
      "text/plain": [
       "('/autofs/nccs-svm1_home1/venkitesh/projects/lqcd/multigrid_lattice/Summit_scripts/install_scripts',\n",
       " '/gpfs/alpine/lgt104/proj-shared/ayyar/builds_summit/install_March_14_2022')"
      ]
     },
     "execution_count": 8,
     "metadata": {},
     "output_type": "execute_result"
    }
   ],
   "source": [
    "loc1=start_dir+'/install_scripts'\n",
    "loc2=dict_pars['build_dir']\n",
    "loc1,loc2"
   ]
  },
  {
   "cell_type": "code",
   "execution_count": 9,
   "id": "cb36dd00-b36f-4470-bc22-00058f59b0d3",
   "metadata": {},
   "outputs": [
    {
     "data": {
      "text/plain": [
       "'/autofs/nccs-svm1_home1/venkitesh/projects/lqcd/multigrid_lattice/Summit_scripts'"
      ]
     },
     "execution_count": 9,
     "metadata": {},
     "output_type": "execute_result"
    }
   ],
   "source": [
    "pwd"
   ]
  },
  {
   "cell_type": "code",
   "execution_count": 10,
   "id": "dd42096f-b98e-4f3d-94af-c72d0b12349a",
   "metadata": {},
   "outputs": [
    {
     "name": "stdout",
     "output_type": "stream",
     "text": [
      "setup_env.sh build.sh\n"
     ]
    }
   ],
   "source": [
    "\n",
    "fname1='setup_env.sh'\n",
    "with open (loc1+'/'+fname1,'w') as f: f.write(env_bash_strg)\n",
    "\n",
    "fname2='build.sh'\n",
    "with open (loc1+'/'+fname2,'w') as f: f.write(build_bash_strg)\n",
    "\n",
    "print(fname1,fname2)\n"
   ]
  },
  {
   "cell_type": "code",
   "execution_count": 11,
   "id": "c74621ae-c3bd-45e9-b32a-72b2fca74721",
   "metadata": {
    "tags": []
   },
   "outputs": [],
   "source": [
    "%%bash -s \"$fname1\" \"$fname2\" \"$loc1\" \"$loc2\" ## Use python variables in bash\n",
    "# cat $1\n",
    "# echo \"-----------------\"\n",
    "# cat $2\n",
    "\n",
    "chmod +x $3/$1\n",
    "chmod +x $3/$2\n",
    "\n",
    "cp $3/$1 $4/$1\n",
    "cp $3/$2 $4/$2\n"
   ]
  },
  {
   "cell_type": "code",
   "execution_count": 12,
   "id": "3cdeffdc-23f9-4487-a361-b03dc59355df",
   "metadata": {},
   "outputs": [],
   "source": [
    "# %%bash -s \"$filename\" ## Use python variable in bash\n",
    "# # module load cgpu\n",
    "# ./$filename > op.out 2>&1"
   ]
  },
  {
   "cell_type": "code",
   "execution_count": 13,
   "id": "fd5d9c03-6ec2-4486-8ab4-65b76b03e2a4",
   "metadata": {
    "tags": []
   },
   "outputs": [
    {
     "name": "stdout",
     "output_type": "stream",
     "text": [
      "#!/bin/bash\n",
      "#############\n",
      "WORKDIR=/gpfs/alpine/lgt104/proj-shared/ayyar/builds_summit/install_March_14_2022\n",
      "\n",
      "#############\n",
      "## Source environment\n",
      "source ${WORKDIR}/setup_env.sh\n",
      "\n",
      "############\n",
      "## Build QUDA\n",
      "QUDA_SRC=${WORKDIR}/QUDA/src/quda\n",
      "QUDA_BUILD=${WORKDIR}/QUDA/build\n",
      "\n",
      "pushd .\n",
      "if [ ! -d $QUDA_SRC ]\n",
      "then\n",
      "  git clone --branch develop https://github.com/lattice/quda $QUDA_SRC # clone QUDA to the desired directory\n",
      "else\n",
      "  cd $QUDA_SRC; git pull; cd ..\n",
      "fi\n",
      "\n",
      "if [ ! -d $QUDA_BUILD ]\n",
      "then\n",
      "  mkdir $QUDA_BUILD\n",
      "else\n",
      "  cd $QUDA_BUILD\n",
      "  rm -rf *\n",
      "fi\n",
      "\n",
      "cd $QUDA_BUILD\n",
      "cmake -DCMAKE_BUILD_TYPE=RELEASE -DQUDA_DIRAC_DEFAULT_OFF=ON -DQUDA_DIRAC_STAGGERED=ON -DQUDA_GPU_ARCH=sm_70 -DQUDA_GAUGE_ALG=ON -DQUDA_GAUGE_TOOLS=ON -DQUDA_DOWNLOAD_USQCD=ON -DQUDA_QIO=ON -DQUDA_QMP=ON -DQUDA_MULTIGRID=ON $QUDA_SRC\n",
      "nice make -j 4\n",
      "make install\n",
      "popd\n",
      "\n",
      "############\n",
      "## Build MILC\n",
      "\n",
      "MILCDIR=${WORKDIR}/MILC/milc_qcd\n",
      "if [ -d $MILCDIR ]\n",
      "then\n",
      "  rm -rf $MILCDIR\n",
      "fi\n",
      "git clone --branch develop https://github.com/milc-qcd/milc_qcd ${MILCDIR}\n",
      "cd ${MILCDIR}/ks_spectrum && cp ${MILCDIR}/Makefile ${MILCDIR}/ks_spectrum\n",
      "export PATH_TO_CUDA=/sw/summit/cuda/11.0.3 # NEED TO MAKE THIS MORE ROBUST TO DIFFERENT CUDA VERSIONS, ASSUMES 11.0.3\n",
      "export USQCD_BUILD=${QUDA_BUILD}/usqcd\n",
      "\n",
      "PATH_TO_CUDA=$PATH_TO_CUDA PATH_TO_QUDA=$QUDA_BUILD PATH_TO_QMP=$USQCD_BUILD PATH_TO_QIO=$USQCD_BUILD POWER9=1 ./compile_ks_spectrum_quda.sh\n",
      "\n",
      "cd $WORKDIR\n"
     ]
    }
   ],
   "source": [
    "cat install_scripts/build.sh"
   ]
  },
  {
   "cell_type": "markdown",
   "id": "e96360ab-6e55-4f3e-a2c3-e55cb82867c4",
   "metadata": {},
   "source": [
    "### Run the build\n",
    "./build.sh 2>&1 | tee op.out\n",
    "\n",
    "\n"
   ]
  },
  {
   "cell_type": "markdown",
   "id": "6074a5b9-36fc-4bfe-b507-fa76eb961fea",
   "metadata": {},
   "source": [
    "### Run actual code"
   ]
  },
  {
   "cell_type": "code",
   "execution_count": 16,
   "id": "dd8bf89f-6f23-4bb7-b596-88118401b019",
   "metadata": {},
   "outputs": [],
   "source": [
    "# target_dir=dict_pars['run_dir']\n",
    "# src_dir='/gpfs/alpine/lgt104/proj-shared/weinbe2/for-venkitesh/'\n",
    "# exec_file=dict_pars['build_dir']+'/MILC/milc_qcd/ks_spectrum/ks_spectrum_hisq'\n",
    "# if not os.path.exists(target_dir):\n",
    "#     os.makedirs(target_dir)\n"
   ]
  },
  {
   "cell_type": "code",
   "execution_count": 17,
   "id": "cad94ba7-907f-4593-afd5-082b74e661e3",
   "metadata": {},
   "outputs": [],
   "source": [
    "# %%bash -s \"$src_dir\" \"$target_dir\" \"$exec_file\" ## Use python variables in bash\n",
    "\n",
    "# cp -r $1/* $2/\n",
    "# mkdir $2/rand\n",
    "# ln -s $3 $2/"
   ]
  },
  {
   "cell_type": "code",
   "execution_count": 18,
   "id": "b3a5a63a-2f2f-4fef-a012-a17dbe34c4db",
   "metadata": {
    "tags": []
   },
   "outputs": [],
   "source": [
    "# #!/bin/bash -v\n",
    "# #BSUB -P lgt104\n",
    "# #BSUB -W 3:00\n",
    "# #BSUB -nnodes 108\n",
    "# #BSUB -J fpi000569\n",
    "# #BSUB -o kpp_spectrumOut.%J\n",
    "# #BSUB -e kpp_spectrumErr.%J\n",
    "# #BSUB -cn_cu 'maxcus=6'\n",
    "# #BSUB -alloc_flags \"smt4\"\n",
    "\n",
    "# # submit with \n",
    "# # bsub run.lsf\n",
    "\n",
    "# nodes=108\n",
    "\n",
    "# PROJ=/gpfs/alpine/lgt104/proj-shared/ayyar/builds_lqcd/run_code\n",
    "# source /gpfs/alpine/lgt104/proj-shared/ayyar/builds_lqcd/install_Sept30_2021/setup_env.sh\n",
    "\n",
    "\n",
    "# executable=${PROJ}/ks_spectrum_hisq\n",
    "# input=input.kpp\n",
    "# output=output-pretune.kpp\n",
    "\n",
    "# node_geom=\"3 2 6 18\"\n",
    "# io_geom=\"${node_geom}\"\n",
    "# runargs=\"-qmp-geom ${node_geom} -qmp-alloc-map 3 2 1 0 -qmp-logic-map  3 2 1 0\"\n",
    "\n",
    "# export QUDA_RESOURCE_PATH=${PROJ}/tunecache # location of QUDA tunecache file\n",
    "# mkdir -p $QUDA_RESOURCE_PATH\n",
    "# export QUDA_ENABLE_GDR=1\n",
    "# export QUDA_MILC_HISQ_RECONSTRUCT=13\n",
    "# export QUDA_MILC_HISQ_RECONSTRUCT_SLOPPY=9\n",
    "\n",
    "# #export QUDA_ENABLE_DEVICE_MEMORY_POOL=0\n",
    "# #export QUDA_ENABLE_MANAGED_MEMORY=1\n",
    "# #export QUDA_ENABLE_MANAGED_PREFETCH=1\n",
    "\n",
    "# echo \"START_RUN: `date`\" >> $output\n",
    "# echo \"EXECUTABLE =  $executable\" >> $output\n",
    "# ls -l $executable >> $output\n",
    "# echo \"RUNARGS = $runargs\" >> $output\n",
    "\n",
    "# export OMP_NUM_THREADS=7\n",
    "# export APP=\"$executable $runargs $input $output\"\n",
    "# echo ${APP} >> ${output}\n",
    "# cmd=\"jsrun --smpiargs=\"'\"-gpu\"'\" -n $nodes -r 1 -g 6 -a 6 -c 42 -dpacked -b packed:7 -l gpu-cpu ./bind-6gpu.sh\"\n",
    "\n",
    "# echo COMMAND: $cmd >> $output\n",
    "# $cmd\n",
    "\n",
    "# echo \"FINISH_RUN: `date`\" >> $output"
   ]
  },
  {
   "cell_type": "code",
   "execution_count": 19,
   "id": "a91fec90-4535-4134-b43b-1dd9afb53ba6",
   "metadata": {},
   "outputs": [
    {
     "data": {
      "text/plain": [
       "'/autofs/nccs-svm1_home1/venkitesh/projects/lqcd/multigrid_lattice'"
      ]
     },
     "execution_count": 19,
     "metadata": {},
     "output_type": "execute_result"
    }
   ],
   "source": [
    "pwd"
   ]
  },
  {
   "cell_type": "code",
   "execution_count": 20,
   "id": "638784a9-5dd6-47ab-b922-0e69974240ed",
   "metadata": {},
   "outputs": [],
   "source": [
    "! cp /gpfs/alpine/lgt104/proj-shared/ayyar/builds_lqcd/run_mgrid/input-mg.kpp ."
   ]
  },
  {
   "cell_type": "code",
   "execution_count": 21,
   "id": "600ab322-bd3d-4806-84a6-e465786e7077",
   "metadata": {},
   "outputs": [
    {
     "name": "stdout",
     "output_type": "stream",
     "text": [
      "\u001b[0m\u001b[01;34mData_extract\u001b[0m/                \u001b[01;36mexec_file\u001b[0m@    \u001b[01;34minstall_scripts\u001b[0m/  \u001b[01;34mrun_scripts\u001b[0m/\n",
      "build_install_scripts.ipynb  input-mg.kpp  \u001b[01;34molder_scripts\u001b[0m/\n"
     ]
    }
   ],
   "source": [
    "ls"
   ]
  },
  {
   "cell_type": "code",
   "execution_count": null,
   "id": "8d9b0fb9-6c32-46bf-a243-6f214ffdd4b9",
   "metadata": {},
   "outputs": [],
   "source": []
  },
  {
   "cell_type": "code",
   "execution_count": null,
   "id": "c50924b9-8a1a-4ce4-a1e0-1d5368981d64",
   "metadata": {},
   "outputs": [],
   "source": []
  }
 ],
 "metadata": {
  "kernelspec": {
   "display_name": "OLCF-base (ipykernel)",
   "language": "python",
   "name": "python3"
  },
  "language_info": {
   "codemirror_mode": {
    "name": "ipython",
    "version": 3
   },
   "file_extension": ".py",
   "mimetype": "text/x-python",
   "name": "python",
   "nbconvert_exporter": "python",
   "pygments_lexer": "ipython3",
   "version": "3.8.10"
  }
 },
 "nbformat": 4,
 "nbformat_minor": 5
}
