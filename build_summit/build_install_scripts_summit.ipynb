{
 "cells": [
  {
   "cell_type": "markdown",
   "id": "356ea646-c554-49a7-ac63-ad91d321874f",
   "metadata": {},
   "source": [
    "## Code to install MILC and QUDA on Summit\n",
    "Oct 27, 2022"
   ]
  },
  {
   "cell_type": "code",
   "execution_count": 1,
   "id": "d75f816b-5eff-4dc8-87be-ba824f69f003",
   "metadata": {},
   "outputs": [],
   "source": [
    "import os, glob\n",
    "import subprocess as sp\n",
    "import numpy as np\n",
    "import shutil\n"
   ]
  },
  {
   "cell_type": "code",
   "execution_count": 2,
   "id": "cfdfaa4b-0be2-46bc-a735-67c0a2925e78",
   "metadata": {},
   "outputs": [],
   "source": [
    "from ipywidgets import *"
   ]
  },
  {
   "cell_type": "markdown",
   "id": "eb3c7691-1a32-4f7b-8efc-f843ad08e432",
   "metadata": {},
   "source": [
    "## Build scripts"
   ]
  },
  {
   "cell_type": "code",
   "execution_count": 3,
   "id": "6713f0bd-48ac-4d36-8717-d7341b6b6d0d",
   "metadata": {},
   "outputs": [
    {
     "name": "stdout",
     "output_type": "stream",
     "text": [
      "/autofs/nccs-svm1_home1/venkitesh/projects/lqcd/multigrid_lattice/Staggered_multigrid_build/build_summit\n"
     ]
    }
   ],
   "source": [
    "start_dir=os.getcwd()\n",
    "print(start_dir)\n",
    "\n",
    "# Create directory to save install scripts\n",
    "if not os.path.exists(start_dir+'/install_scripts'):\n",
    "    os.makedirs(start_dir+'/install_scripts/')"
   ]
  },
  {
   "cell_type": "code",
   "execution_count": 4,
   "id": "43bb4abf-e56c-4c73-bfb8-6e1df700c5af",
   "metadata": {},
   "outputs": [],
   "source": [
    "dict_pars={}\n",
    "dict_pars['build_dir']='/gpfs/alpine/lgt104/proj-shared/ayyar/builds_summit/install_Dec9_2022'\n",
    "# dict_pars['run_dir']='/gpfs/alpine/lgt104/proj-shared/ayyar/runs_summit/runs_Dec9_2022'\n",
    "dict_pars['mgrid']='-DQUDA_MULTIGRID=ON'\n",
    "\n",
    "## Create upper level directories\n",
    "if not os.path.exists(dict_pars['build_dir']):\n",
    "    os.makedirs(dict_pars['build_dir']+'/QUDA/src/')\n",
    "    # os.makedirs(dict_pars['build_dir']+'/QUDA/src/quda/')\n",
    "    # os.makedirs(dict_pars['build_dir']+'/MILC')\n",
    "    os.makedirs(dict_pars['build_dir']+'/install')"
   ]
  },
  {
   "cell_type": "code",
   "execution_count": 5,
   "id": "28cc0273-2f2c-404e-8b43-c9917286c207",
   "metadata": {},
   "outputs": [],
   "source": [
    "### Setup env\n",
    "env_bash_strg='''#!/bin/bash\n",
    "#############\n",
    "\n",
    "module purge\n",
    "module load DefApps\n",
    "module unload xalt/1.2.1\n",
    "#module load cuda/11.3.1\n",
    "module load cuda/11.0.3\n",
    "#module load gcc/7.5.0\n",
    "module load gcc/9.3.0\n",
    "module load git/2.31.1\n",
    "module load cmake/3.23.2\n",
    "module load nsight-systems/2021.3.1.54\n",
    "module load nsight-compute/2021.2.1\n",
    "module load gdrcopy/2.2\n",
    "module list\n",
    "\n",
    "\n",
    "export LD_LIBRARY_PATH=\"$BUILD_DIR/QUDA/build/usqcd/lib:${{LD_LIBRARY_PATH}}\"\n",
    "'''.format(**dict_pars)"
   ]
  },
  {
   "cell_type": "code",
   "execution_count": 6,
   "id": "a6a7c1ad-25e8-4d4b-9695-92d94b96f76f",
   "metadata": {
    "tags": []
   },
   "outputs": [],
   "source": [
    "build_bash_strg1='''#!/bin/bash\n",
    "date\n",
    "\n",
    "#############\n",
    "## Source environment\n",
    "source ${{BUILD_DIR}}/install_scripts/setup_env_summit.sh\n",
    "\n",
    "############\n",
    "## Build QUDA\n",
    "QUDA_SRC=${{BUILD_DIR}}/QUDA/src/quda\n",
    "QUDA_BUILD=${{BUILD_DIR}}/QUDA/build\n",
    "\n",
    "pushd .\n",
    "if [ ! -d $QUDA_SRC ]\n",
    "then\n",
    "  git clone --branch develop https://github.com/lattice/quda $QUDA_SRC # clone QUDA to the desired directory\n",
    "else\n",
    "  cd $QUDA_SRC; git pull; cd ..\n",
    "fi\n",
    "\n",
    "if [ ! -d $QUDA_BUILD ]\n",
    "then\n",
    "  mkdir $QUDA_BUILD\n",
    "else\n",
    "  cd $QUDA_BUILD\n",
    "  rm -rf *\n",
    "fi\n",
    "\n",
    "cd $QUDA_BUILD\n",
    "cmake -DCMAKE_BUILD_TYPE=RELEASE -DQUDA_DIRAC_DEFAULT_OFF=ON -DQUDA_DIRAC_STAGGERED=ON -DQUDA_GPU_ARCH=sm_70 -DQUDA_DOWNLOAD_USQCD=ON -DQUDA_QIO=ON -DQUDA_QMP=ON -DQUDA_MULTIGRID=ON $QUDA_SRC\n",
    "nice make -j 4\n",
    "make install\n",
    "popd\n",
    "\n",
    "date\n",
    "'''.format(**dict_pars)\n"
   ]
  },
  {
   "cell_type": "code",
   "execution_count": 7,
   "id": "5fce24c6-b9c4-4cf9-b617-f088f8fab021",
   "metadata": {},
   "outputs": [],
   "source": [
    "build_bash_strg2='''#!/bin/bash\n",
    "#############\n",
    "\n",
    "## Source environment\n",
    "script_loc=$BUILD_DIR/install_scripts\n",
    "source $script_loc/setup_env_summit.sh\n",
    "\n",
    "############\n",
    "## Build QUDA\n",
    "git clone --branch develop https://github.com/milc-qcd/milc_qcd $BUILD_DIR/milc_qcd\n",
    "'''.format(**dict_pars)"
   ]
  },
  {
   "cell_type": "code",
   "execution_count": 8,
   "id": "fd5d7dce-4f05-4a56-b37a-7622487f1696",
   "metadata": {},
   "outputs": [],
   "source": [
    "build_bash_strg3='''#!/bin/bash\n",
    "date\n",
    "\n",
    "#############\n",
    "## Source environment\n",
    "script_loc=$BUILD_DIR/install_scripts\n",
    "source $script_loc/setup_env_summit.sh\n",
    "\n",
    "############\n",
    "## Build QUDA\n",
    "QUDA_SRC=${{BUILD_DIR}}/QUDA/src/quda\n",
    "QUDA_BUILD=${{BUILD_DIR}}/QUDA/build\n",
    "\n",
    "## Build MILC\n",
    "\n",
    "MILCDIR=${{BUILD_DIR}}/milc_qcd\n",
    "\n",
    "cd ${{MILCDIR}}/ks_spectrum && cp ${{MILCDIR}}/Makefile ${{MILCDIR}}/ks_spectrum\n",
    "export PATH_TO_CUDA=/sw/summit/cuda/11.0.3 # NEED TO MAKE THIS MORE ROBUST TO DIFFERENT CUDA VERSIONS, ASSUMES 11.0.3\n",
    "export USQCD_BUILD=${{QUDA_BUILD}}/usqcd\n",
    "\n",
    "PATH_TO_CUDA=$PATH_TO_CUDA PATH_TO_QUDA=$QUDA_BUILD PATH_TO_QMP=$USQCD_BUILD PATH_TO_QIO=$USQCD_BUILD POWER9=1 MULTIGRID=1 $MILCDIR/ks_spectrum/./compile_ks_spectrum_hisq_quda.sh\n",
    "\n",
    "cd $BUILD_DIR\n",
    "date\n",
    "'''.format(**dict_pars)"
   ]
  },
  {
   "cell_type": "code",
   "execution_count": 9,
   "id": "7385b754-02ff-4eae-b2ef-b0caecbb0e07",
   "metadata": {},
   "outputs": [
    {
     "data": {
      "text/plain": [
       "('/autofs/nccs-svm1_home1/venkitesh/projects/lqcd/multigrid_lattice/Staggered_multigrid_build/build_summit/install_scripts/',\n",
       " '/gpfs/alpine/lgt104/proj-shared/ayyar/builds_summit/install_Dec9_2022/')"
      ]
     },
     "execution_count": 9,
     "metadata": {},
     "output_type": "execute_result"
    }
   ],
   "source": [
    "loc1=start_dir+'/install_scripts/'\n",
    "loc2=dict_pars['build_dir']+'/'\n",
    "loc1,loc2"
   ]
  },
  {
   "cell_type": "code",
   "execution_count": 10,
   "id": "dd42096f-b98e-4f3d-94af-c72d0b12349a",
   "metadata": {},
   "outputs": [
    {
     "name": "stdout",
     "output_type": "stream",
     "text": [
      "setup_env_summit.sh build_quda.sh build_milc1.sh build_milc2.sh\n"
     ]
    }
   ],
   "source": [
    "fname1='setup_env_summit.sh'\n",
    "with open (loc1+fname1,'w') as f: f.write(env_bash_strg)\n",
    "\n",
    "fname2='build_quda.sh'\n",
    "with open (loc1+fname2,'w') as f: f.write(build_bash_strg1)\n",
    "\n",
    "fname3='build_milc1.sh'\n",
    "with open (loc1+fname3,'w') as f: f.write(build_bash_strg2)\n",
    "\n",
    "fname4='build_milc2.sh'\n",
    "with open (loc1+fname4,'w') as f: f.write(build_bash_strg3)\n",
    "\n",
    "print(fname1,fname2,fname3,fname4)"
   ]
  },
  {
   "cell_type": "code",
   "execution_count": 11,
   "id": "c74621ae-c3bd-45e9-b32a-72b2fca74721",
   "metadata": {
    "tags": []
   },
   "outputs": [],
   "source": [
    "%%bash -s \"$fname1\" \"$fname2\" \"$fname3\" \"$fname4\" \"$loc1\" \"$loc2\" ## Use python variables in bash\n",
    "\n",
    "# ls -al $5$1\n",
    "# ls -al $5$4\n",
    "\n",
    "chmod +x $5/$1\n",
    "chmod +x $5/$2\n",
    "chmod +x $5/$3\n",
    "chmod +x $5/$4\n",
    "\n",
    "cp -r $5 $6"
   ]
  },
  {
   "cell_type": "markdown",
   "id": "e96360ab-6e55-4f3e-a2c3-e55cb82867c4",
   "metadata": {},
   "source": [
    "### Run the build\n",
    "./install_scripts/build_quda.sh 2>&1 | tee op_quda.out \\\n",
    "./install_scripts/build_milc1.sh 2>&1 | tee op_milc1.out \\\n",
    "< make some changes to files> \\\n",
    "./install_scripts/build_milc2.sh 2>&1 | tee op_milc2.out"
   ]
  },
  {
   "cell_type": "code",
   "execution_count": 12,
   "id": "938fc7b1-3430-4e4c-8571-a428364ccea0",
   "metadata": {},
   "outputs": [],
   "source": [
    "# cat install_scripts/build_milc.sh"
   ]
  },
  {
   "cell_type": "code",
   "execution_count": null,
   "id": "beb6eba8-1a1a-4ba8-9fa7-50fcf1d2971b",
   "metadata": {},
   "outputs": [],
   "source": []
  }
 ],
 "metadata": {
  "kernelspec": {
   "display_name": "OLCF-base (ipykernel)",
   "language": "python",
   "name": "python3"
  },
  "language_info": {
   "codemirror_mode": {
    "name": "ipython",
    "version": 3
   },
   "file_extension": ".py",
   "mimetype": "text/x-python",
   "name": "python",
   "nbconvert_exporter": "python",
   "pygments_lexer": "ipython3",
   "version": "3.8.10"
  }
 },
 "nbformat": 4,
 "nbformat_minor": 5
}
